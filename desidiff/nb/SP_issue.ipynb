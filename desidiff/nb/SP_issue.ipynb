{
 "cells": [
  {
   "cell_type": "code",
   "execution_count": null,
   "id": "0d06f775-8df5-4d3a-9026-d9c97b31f886",
   "metadata": {},
   "outputs": [],
   "source": [
    "import os\n",
    "import sys\n",
    "module_path = os.path.abspath(os.path.join('../../'))\n",
    "if module_path not in sys.path:\n",
    "    sys.path.append(module_path)\n",
    "import numpy\n",
    "from desispec.io import read_spectra, write_spectra\n",
    "from desispec.spectra import Spectra\n",
    "%matplotlib inline\n",
    "import matplotlib.pyplot as plt\n",
    "from IPython import display\n",
    "from astropy.table import Table,vstack\n",
    "from desiutil.log import get_logger, DEBUG\n",
    "from desidiff.src.group_tiles import *\n",
    "from desidiff.src.dates_to_process import *\n",
    "from desidiff.src.coadd import *\n",
    "from desidiff.src.scores import *\n",
    "\n",
    "from timedomain.sp_utils import SkyPortal as sp"
   ]
  },
  {
   "cell_type": "code",
   "execution_count": null,
   "id": "eee25006-5d72-487e-9a69-d57624b26db5",
   "metadata": {},
   "outputs": [],
   "source": [
    "print(sp.instrument_id())"
   ]
  },
  {
   "cell_type": "code",
   "execution_count": null,
   "id": "ffcebed0-b811-4d0d-a69e-834ed41d836f",
   "metadata": {},
   "outputs": [],
   "source": []
  }
 ],
 "metadata": {
  "kernelspec": {
   "display_name": "DESI master",
   "language": "python",
   "name": "desi-master"
  },
  "language_info": {
   "codemirror_mode": {
    "name": "ipython",
    "version": 3
   },
   "file_extension": ".py",
   "mimetype": "text/x-python",
   "name": "python",
   "nbconvert_exporter": "python",
   "pygments_lexer": "ipython3",
   "version": "3.8.3"
  }
 },
 "nbformat": 4,
 "nbformat_minor": 5
}
