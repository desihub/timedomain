{
 "cells": [
  {
   "cell_type": "code",
   "execution_count": null,
   "id": "34b09327-bd04-4279-b559-6167668b4c0d",
   "metadata": {},
   "outputs": [],
   "source": [
    "import os\n",
    "import sys\n",
    "module_path = os.path.abspath(os.path.join('../../'))\n",
    "if module_path not in sys.path:\n",
    "    sys.path.append(module_path)\n",
    "import numpy\n",
    "from desispec.io import read_spectra, write_spectra\n",
    "from desispec.spectra import Spectra\n",
    "%matplotlib inline\n",
    "import matplotlib.pyplot as plt\n",
    "from IPython import display\n",
    "from astropy.table import Table,vstack\n",
    "from desiutil.log import get_logger, DEBUG\n",
    "from desidiff.src.group_tiles import *\n",
    "from desidiff.src.dates_to_process import *\n",
    "from desidiff.src.coadd import *\n",
    "from desidiff.src.scores import *\n",
    "\n",
    "from timedomain.sp_utils import SkyPortal as sp\n",
    "import requests"
   ]
  },
  {
   "cell_type": "code",
   "execution_count": null,
   "id": "9af8f572-fa52-4ef6-a48b-ec79bc404232",
   "metadata": {},
   "outputs": [],
   "source": [
    "# Loop over unprocessed night, doesn't need to be run as we debug\n",
    "night_arr = getUnprocessedDates()\n",
    "for a in night_arr:   \n",
    "    # read in and store in one place all the fibermap information in the spectra files\n",
    "    date = a"
   ]
  },
  {
   "cell_type": "code",
   "execution_count": null,
   "id": "83813b8c-2fd0-4665-b8d9-bf867eaf19e5",
   "metadata": {},
   "outputs": [],
   "source": [
    "date=20210606\n",
    "tile_petal,group_tid,group_tp, group_night =getMatchedTileid(date)"
   ]
  },
  {
   "cell_type": "code",
   "execution_count": null,
   "id": "3aceb08e-7fd2-4652-9260-d8aef1c78c69",
   "metadata": {},
   "outputs": [],
   "source": [
    "#Set non-default plot size \n",
    "plt.rcParams[\"figure.figsize\"] = (20,6)"
   ]
  },
  {
   "cell_type": "code",
   "execution_count": null,
   "id": "71108ebd-2952-42cf-83dc-398678dd9256",
   "metadata": {
    "tags": []
   },
   "outputs": [],
   "source": [
    "# tile_petal contain subsets of tile/petals whose RA/DEC targets are not contained in other tile/petals from that night\n",
    "for tps in tile_petal:\n",
    "    # Check to see if this tile/petal has nothing to subtract.  Skip's IO if this is the case\n",
    "    if hasNothingToProcess(tps,group_tid,group_tp,group_night):\n",
    "        continue\n",
    "    \n",
    "    # cache spectra to minimize IO\n",
    "    spectra_list=dict()\n",
    "    zbest_list = []\n",
    "    target_list=[]\n",
    "    for tp in tps:\n",
    "        filename =  f\"/global/project/projectdirs/desi/spectro/redux/daily/tiles/cumulative/{tp[0]}/{date}/spectra-{tp[1]}-{tp[0]}-thru{date}.fits\"\n",
    "        spectra_list[(tp[0],tp[1])]=read_spectra(filename)\n",
    "        zbest = filename.replace('spectra','zbest')\n",
    "        z = Table.read(zbest, format='fits',hdu=1, memmap=True)['TARGETID','Z','ZERR','ZWARN','SPECTYPE']\n",
    "        zbest_list.append(z)\n",
    "    z = vstack(zbest_list)\n",
    "    \n",
    "\n",
    "#     z_data = []\n",
    "    count=0\n",
    "    # loop over all unique RA/DEC pairs from that night\n",
    "    for tid, tp, night in zip(group_tid,group_tp,group_night):\n",
    "        # if this RA/DEC is not in thie tile_petal combination than skip\n",
    "        if tp[0] not in tps:\n",
    "            continue\n",
    "            \n",
    "        if len(night) == 1:\n",
    "            continue\n",
    "            \n",
    "#         print(tid)\n",
    "\n",
    "        # Eliminate those with no reference night here\n",
    "        # Proceed with a subtraction for this object\n",
    "        \n",
    "        # The coadds of the new and reference are constructed from all spectra with all targetid's in tid and all\n",
    "        # tile/petal combinations in tp, which are cached above\n",
    "        \n",
    "        # Finds the object in the zbest by matching the targetID.\n",
    "        #Stores a tuple = (TARGETID, Z, ZERR,ZWARN, SPECTYPE)\n",
    "        z_data = []\n",
    "        for t in tid:\n",
    "            tid_ind = list(z['TARGETID']).index(t)\n",
    "            z_data.append((tid, z[tid_ind]['Z'], z[tid_ind]['ZERR'], z[tid_ind]['ZWARN'], z[tid_ind]['SPECTYPE']))\n",
    "        \n",
    "        newSpectra=[]\n",
    "        refSpectra=[]\n",
    "        for tile,plate in tp:\n",
    "            spec = spectra_list[(tile,plate)]\n",
    "\n",
    "            idx = numpy.in1d(night, date)\n",
    "            ref_night = night[~idx]\n",
    "            \n",
    "            newSpectra.append(spec.select(nights=date, targets = tid))\n",
    "            \n",
    "            \"\"\"\n",
    "            There is a variable night that has all the nights associated with this RA/DEC\n",
    "            derive the ref_night from that\n",
    "            \"\"\"\n",
    "            \n",
    "            refSpectra.append(spec.select(nights=ref_night, targets = tid))       \n",
    "         \n",
    "        \n",
    "        newflux, newivar, newwave, newmask = coadd(newSpectra)\n",
    "        refflux, refivar, refwave, refmask = coadd(refSpectra)\n",
    "        \n",
    "        difflux, difivar, difmask, difwave = dict.fromkeys([\"b\", \"r\", \"z\"]), dict.fromkeys([\"b\", \"r\", \"z\"]), dict.fromkeys([\"b\", \"r\", \"z\"]), dict.fromkeys([\"b\", \"r\", \"z\"])\n",
    "        \n",
    "        difflux = {key: newflux[key] - refflux[key]\n",
    "                       for key in newflux.keys()}\n",
    "        difivar = {key: newivar[key] + refivar[key]\n",
    "                       for key in newivar.keys()}\n",
    "        difmask = {key: newmask[key] + refmask[key]\n",
    "                       for key in newmask.keys()}\n",
    "        difwave = dict(newwave)\n",
    "\n",
    "        ## filters         \n",
    "        # trim red edge \n",
    "        if 'z' in difflux.keys():\n",
    "            w=numpy.where(difwave['z'] < 9100)[0]\n",
    "            difflux['z']=difflux['z'][w]\n",
    "            difivar['z']=difivar['z'][w]\n",
    "            difwave['z']=difwave['z'][w]\n",
    "            difmask['z']=difmask['z'][w]\n",
    "            \n",
    "        # mean-subtracted difference\n",
    "        difflux_clipmean = clipmean(difflux,difivar,difmask)\n",
    "        \n",
    "        # Difference spectrum may have broadband signal\n",
    "        perband_filter = perband_SN(difflux_clipmean,difivar,difmask)\n",
    "        \n",
    "        # fractional increase\n",
    "        perband_inc = perband_increase(difflux_clipmean,difivar,difmask, refflux,refivar,refmask)\n",
    "        \n",
    "        # Difference spectrum may have high-frequency signal\n",
    "        perres_filter = perconv_SN(difflux_clipmean,difivar,difmask)\n",
    "        \n",
    "#         print(perband_filter, perband_inc, perres_filter)\n",
    "#         print(any(list(perband_filter.values())), numpy.sum(list(perres_filter.values())) >1)\n",
    "\n",
    "        #broadband\n",
    "        bblogic = any(numpy.logical_and(numpy.array(list(perband_filter.values()))>10, numpy.array(list(perband_inc.values()))>0.25))\n",
    "        linelogic = numpy.sum(list(perres_filter.values()))>4\n",
    "        logic = bblogic or linelogic\n",
    "        plt.clf()\n",
    "        if logic:\n",
    "            #Uncomment next line if you want to print only those TargetIds that get plotted\n",
    "            print(tid)\n",
    "            for b in difflux.keys():\n",
    "                w=numpy.where(difmask[b] ==0)[0]\n",
    "                if b == list(difflux.keys())[-1]:\n",
    "                    plt.plot(difwave[b][w],difflux[b][w],color='cyan', label = 'Difference')\n",
    "                    plt.plot(newwave[b][w],newflux[b][w],color='blue',alpha=0.5, label = 'New Spectrum')\n",
    "                    plt.plot(refwave[b][w],refflux[b][w],color='green',alpha=0.5, label = 'Reference Spectrum')\n",
    "                    plt.legend()\n",
    "                else:\n",
    "                    plt.plot(difwave[b][w],difflux[b][w],color='cyan')\n",
    "                    plt.plot(newwave[b][w],newflux[b][w],color='blue',alpha=0.5)\n",
    "                    plt.plot(refwave[b][w],refflux[b][w],color='green',alpha=0.5)\n",
    "\n",
    "            plt.xlabel('Wavelength (A)')\n",
    "            plt.ylabel('Flux') \n",
    "            plt.show()\n",
    "            count=count+1\n",
    "            \n",
    "        if count==10:\n",
    "            wefwe"
   ]
  },
  {
   "cell_type": "code",
   "execution_count": 38,
   "id": "df5bf6c9-6aa1-4217-b363-31f5ecdca109",
   "metadata": {},
   "outputs": [],
   "source": [
    "token = 'b8755e6b-e63c-410e-8bcf-45debfbf363a'"
   ]
  },
  {
   "cell_type": "code",
   "execution_count": 39,
   "id": "06ad2d63-b230-4305-8c56-72f8acf313db",
   "metadata": {},
   "outputs": [],
   "source": [
    "def api(method, endpoint, data=None):\n",
    "    headers = {'Authorization': f'token {token}'}\n",
    "    response = requests.request(method, endpoint, json=data, headers=headers)\n",
    "    return response"
   ]
  },
  {
   "cell_type": "code",
   "execution_count": 40,
   "id": "6e432ca5-b882-454a-81c1-460b1cc2adac",
   "metadata": {},
   "outputs": [],
   "source": [
    "wavelengths = (numpy.concatenate((difwave['b'],difwave['r'],difwave['z']), axis=None))\n",
    "wavelengths = wavelengths.tolist()\n",
    "# print(wavelengths)"
   ]
  },
  {
   "cell_type": "code",
   "execution_count": 41,
   "id": "cd84b5a6-51e1-4510-a6b8-ef66eb2679ee",
   "metadata": {},
   "outputs": [],
   "source": [
    "flux = (numpy.concatenate((difflux['b'],difflux['r'],difflux['z']), axis=None))\n",
    "flux = flux.tolist()\n",
    "# print(flux)"
   ]
  },
  {
   "cell_type": "code",
   "execution_count": null,
   "id": "72bc1194-7d24-44f9-923a-dfe3c27e7cde",
   "metadata": {},
   "outputs": [],
   "source": [
    "difspectrum = Spectra(list(difflux.keys()), difwave, difflux, difivar, difmask)"
   ]
  },
  {
   "cell_type": "code",
   "execution_count": 67,
   "id": "0676fd61-c679-4bb0-b669-79556f2d7a64",
   "metadata": {},
   "outputs": [
    {
     "ename": "JSONDecodeError",
     "evalue": "Expecting value: line 1 column 1 (char 0)",
     "output_type": "error",
     "traceback": [
      "\u001b[0;31m---------------------------------------------------------------------------\u001b[0m",
      "\u001b[0;31mJSONDecodeError\u001b[0m                           Traceback (most recent call last)",
      "\u001b[0;32m<ipython-input-67-a0894c720b88>\u001b[0m in \u001b[0;36m<module>\u001b[0;34m\u001b[0m\n\u001b[0;32m----> 1\u001b[0;31m \u001b[0mprint\u001b[0m\u001b[0;34m(\u001b[0m\u001b[0msp\u001b[0m\u001b[0;34m.\u001b[0m\u001b[0minstrument_id\u001b[0m\u001b[0;34m(\u001b[0m\u001b[0;34m)\u001b[0m\u001b[0;34m)\u001b[0m\u001b[0;34m\u001b[0m\u001b[0;34m\u001b[0m\u001b[0m\n\u001b[0m",
      "\u001b[0;32m/global/u2/d/divij18/timedomain_private/timedomain/sp_utils.py\u001b[0m in \u001b[0;36minstrument_id\u001b[0;34m()\u001b[0m\n\u001b[1;32m     64\u001b[0m         \u001b[0;32mif\u001b[0m \u001b[0mSkyPortal\u001b[0m\u001b[0;34m.\u001b[0m\u001b[0minst_id\u001b[0m \u001b[0;32mis\u001b[0m \u001b[0;32mNone\u001b[0m\u001b[0;34m:\u001b[0m\u001b[0;34m\u001b[0m\u001b[0;34m\u001b[0m\u001b[0m\n\u001b[1;32m     65\u001b[0m             \u001b[0mresponse\u001b[0m \u001b[0;34m=\u001b[0m \u001b[0mSkyPortal\u001b[0m\u001b[0;34m.\u001b[0m\u001b[0mapi\u001b[0m\u001b[0;34m(\u001b[0m\u001b[0;34m'GET'\u001b[0m\u001b[0;34m,\u001b[0m \u001b[0;34m'{}/api/instrument'\u001b[0m\u001b[0;34m.\u001b[0m\u001b[0mformat\u001b[0m\u001b[0;34m(\u001b[0m\u001b[0mSkyPortal\u001b[0m\u001b[0;34m.\u001b[0m\u001b[0murl\u001b[0m\u001b[0;34m)\u001b[0m\u001b[0;34m)\u001b[0m\u001b[0;34m\u001b[0m\u001b[0;34m\u001b[0m\u001b[0m\n\u001b[0;32m---> 66\u001b[0;31m             \u001b[0mdata\u001b[0m \u001b[0;34m=\u001b[0m \u001b[0mresponse\u001b[0m\u001b[0;34m.\u001b[0m\u001b[0mjson\u001b[0m\u001b[0;34m(\u001b[0m\u001b[0;34m)\u001b[0m\u001b[0;34m[\u001b[0m\u001b[0;34m'data'\u001b[0m\u001b[0;34m]\u001b[0m\u001b[0;34m\u001b[0m\u001b[0;34m\u001b[0m\u001b[0m\n\u001b[0m\u001b[1;32m     67\u001b[0m             \u001b[0mtheOne\u001b[0m \u001b[0;34m=\u001b[0m \u001b[0mlist\u001b[0m\u001b[0;34m(\u001b[0m\u001b[0mfilter\u001b[0m\u001b[0;34m(\u001b[0m\u001b[0;32mlambda\u001b[0m \u001b[0mdatum\u001b[0m\u001b[0;34m:\u001b[0m \u001b[0mdatum\u001b[0m\u001b[0;34m[\u001b[0m\u001b[0;34m'name'\u001b[0m\u001b[0;34m]\u001b[0m\u001b[0;34m==\u001b[0m\u001b[0mSkyPortal\u001b[0m\u001b[0;34m.\u001b[0m\u001b[0minstrument_name\u001b[0m\u001b[0;34m,\u001b[0m\u001b[0mdata\u001b[0m\u001b[0;34m)\u001b[0m\u001b[0;34m)\u001b[0m\u001b[0;34m\u001b[0m\u001b[0;34m\u001b[0m\u001b[0m\n\u001b[1;32m     68\u001b[0m             \u001b[0;32mif\u001b[0m \u001b[0mlen\u001b[0m\u001b[0;34m(\u001b[0m\u001b[0mtheOne\u001b[0m\u001b[0;34m)\u001b[0m \u001b[0;34m!=\u001b[0m\u001b[0;36m0\u001b[0m\u001b[0;34m:\u001b[0m\u001b[0;34m\u001b[0m\u001b[0;34m\u001b[0m\u001b[0m\n",
      "\u001b[0;32m/global/common/software/desi/cori/desiconda/20200801-1.4.0-spec/conda/lib/python3.8/site-packages/requests/models.py\u001b[0m in \u001b[0;36mjson\u001b[0;34m(self, **kwargs)\u001b[0m\n\u001b[1;32m    896\u001b[0m                     \u001b[0;31m# used.\u001b[0m\u001b[0;34m\u001b[0m\u001b[0;34m\u001b[0m\u001b[0;34m\u001b[0m\u001b[0m\n\u001b[1;32m    897\u001b[0m                     \u001b[0;32mpass\u001b[0m\u001b[0;34m\u001b[0m\u001b[0;34m\u001b[0m\u001b[0m\n\u001b[0;32m--> 898\u001b[0;31m         \u001b[0;32mreturn\u001b[0m \u001b[0mcomplexjson\u001b[0m\u001b[0;34m.\u001b[0m\u001b[0mloads\u001b[0m\u001b[0;34m(\u001b[0m\u001b[0mself\u001b[0m\u001b[0;34m.\u001b[0m\u001b[0mtext\u001b[0m\u001b[0;34m,\u001b[0m \u001b[0;34m**\u001b[0m\u001b[0mkwargs\u001b[0m\u001b[0;34m)\u001b[0m\u001b[0;34m\u001b[0m\u001b[0;34m\u001b[0m\u001b[0m\n\u001b[0m\u001b[1;32m    899\u001b[0m \u001b[0;34m\u001b[0m\u001b[0m\n\u001b[1;32m    900\u001b[0m     \u001b[0;34m@\u001b[0m\u001b[0mproperty\u001b[0m\u001b[0;34m\u001b[0m\u001b[0;34m\u001b[0m\u001b[0m\n",
      "\u001b[0;32m/global/common/software/desi/cori/desiconda/20200801-1.4.0-spec/conda/lib/python3.8/json/__init__.py\u001b[0m in \u001b[0;36mloads\u001b[0;34m(s, cls, object_hook, parse_float, parse_int, parse_constant, object_pairs_hook, **kw)\u001b[0m\n\u001b[1;32m    355\u001b[0m             \u001b[0mparse_int\u001b[0m \u001b[0;32mis\u001b[0m \u001b[0;32mNone\u001b[0m \u001b[0;32mand\u001b[0m \u001b[0mparse_float\u001b[0m \u001b[0;32mis\u001b[0m \u001b[0;32mNone\u001b[0m \u001b[0;32mand\u001b[0m\u001b[0;34m\u001b[0m\u001b[0;34m\u001b[0m\u001b[0m\n\u001b[1;32m    356\u001b[0m             parse_constant is None and object_pairs_hook is None and not kw):\n\u001b[0;32m--> 357\u001b[0;31m         \u001b[0;32mreturn\u001b[0m \u001b[0m_default_decoder\u001b[0m\u001b[0;34m.\u001b[0m\u001b[0mdecode\u001b[0m\u001b[0;34m(\u001b[0m\u001b[0ms\u001b[0m\u001b[0;34m)\u001b[0m\u001b[0;34m\u001b[0m\u001b[0;34m\u001b[0m\u001b[0m\n\u001b[0m\u001b[1;32m    358\u001b[0m     \u001b[0;32mif\u001b[0m \u001b[0mcls\u001b[0m \u001b[0;32mis\u001b[0m \u001b[0;32mNone\u001b[0m\u001b[0;34m:\u001b[0m\u001b[0;34m\u001b[0m\u001b[0;34m\u001b[0m\u001b[0m\n\u001b[1;32m    359\u001b[0m         \u001b[0mcls\u001b[0m \u001b[0;34m=\u001b[0m \u001b[0mJSONDecoder\u001b[0m\u001b[0;34m\u001b[0m\u001b[0;34m\u001b[0m\u001b[0m\n",
      "\u001b[0;32m/global/common/software/desi/cori/desiconda/20200801-1.4.0-spec/conda/lib/python3.8/json/decoder.py\u001b[0m in \u001b[0;36mdecode\u001b[0;34m(self, s, _w)\u001b[0m\n\u001b[1;32m    335\u001b[0m \u001b[0;34m\u001b[0m\u001b[0m\n\u001b[1;32m    336\u001b[0m         \"\"\"\n\u001b[0;32m--> 337\u001b[0;31m         \u001b[0mobj\u001b[0m\u001b[0;34m,\u001b[0m \u001b[0mend\u001b[0m \u001b[0;34m=\u001b[0m \u001b[0mself\u001b[0m\u001b[0;34m.\u001b[0m\u001b[0mraw_decode\u001b[0m\u001b[0;34m(\u001b[0m\u001b[0ms\u001b[0m\u001b[0;34m,\u001b[0m \u001b[0midx\u001b[0m\u001b[0;34m=\u001b[0m\u001b[0m_w\u001b[0m\u001b[0;34m(\u001b[0m\u001b[0ms\u001b[0m\u001b[0;34m,\u001b[0m \u001b[0;36m0\u001b[0m\u001b[0;34m)\u001b[0m\u001b[0;34m.\u001b[0m\u001b[0mend\u001b[0m\u001b[0;34m(\u001b[0m\u001b[0;34m)\u001b[0m\u001b[0;34m)\u001b[0m\u001b[0;34m\u001b[0m\u001b[0;34m\u001b[0m\u001b[0m\n\u001b[0m\u001b[1;32m    338\u001b[0m         \u001b[0mend\u001b[0m \u001b[0;34m=\u001b[0m \u001b[0m_w\u001b[0m\u001b[0;34m(\u001b[0m\u001b[0ms\u001b[0m\u001b[0;34m,\u001b[0m \u001b[0mend\u001b[0m\u001b[0;34m)\u001b[0m\u001b[0;34m.\u001b[0m\u001b[0mend\u001b[0m\u001b[0;34m(\u001b[0m\u001b[0;34m)\u001b[0m\u001b[0;34m\u001b[0m\u001b[0;34m\u001b[0m\u001b[0m\n\u001b[1;32m    339\u001b[0m         \u001b[0;32mif\u001b[0m \u001b[0mend\u001b[0m \u001b[0;34m!=\u001b[0m \u001b[0mlen\u001b[0m\u001b[0;34m(\u001b[0m\u001b[0ms\u001b[0m\u001b[0;34m)\u001b[0m\u001b[0;34m:\u001b[0m\u001b[0;34m\u001b[0m\u001b[0;34m\u001b[0m\u001b[0m\n",
      "\u001b[0;32m/global/common/software/desi/cori/desiconda/20200801-1.4.0-spec/conda/lib/python3.8/json/decoder.py\u001b[0m in \u001b[0;36mraw_decode\u001b[0;34m(self, s, idx)\u001b[0m\n\u001b[1;32m    353\u001b[0m             \u001b[0mobj\u001b[0m\u001b[0;34m,\u001b[0m \u001b[0mend\u001b[0m \u001b[0;34m=\u001b[0m \u001b[0mself\u001b[0m\u001b[0;34m.\u001b[0m\u001b[0mscan_once\u001b[0m\u001b[0;34m(\u001b[0m\u001b[0ms\u001b[0m\u001b[0;34m,\u001b[0m \u001b[0midx\u001b[0m\u001b[0;34m)\u001b[0m\u001b[0;34m\u001b[0m\u001b[0;34m\u001b[0m\u001b[0m\n\u001b[1;32m    354\u001b[0m         \u001b[0;32mexcept\u001b[0m \u001b[0mStopIteration\u001b[0m \u001b[0;32mas\u001b[0m \u001b[0merr\u001b[0m\u001b[0;34m:\u001b[0m\u001b[0;34m\u001b[0m\u001b[0;34m\u001b[0m\u001b[0m\n\u001b[0;32m--> 355\u001b[0;31m             \u001b[0;32mraise\u001b[0m \u001b[0mJSONDecodeError\u001b[0m\u001b[0;34m(\u001b[0m\u001b[0;34m\"Expecting value\"\u001b[0m\u001b[0;34m,\u001b[0m \u001b[0ms\u001b[0m\u001b[0;34m,\u001b[0m \u001b[0merr\u001b[0m\u001b[0;34m.\u001b[0m\u001b[0mvalue\u001b[0m\u001b[0;34m)\u001b[0m \u001b[0;32mfrom\u001b[0m \u001b[0;32mNone\u001b[0m\u001b[0;34m\u001b[0m\u001b[0;34m\u001b[0m\u001b[0m\n\u001b[0m\u001b[1;32m    356\u001b[0m         \u001b[0;32mreturn\u001b[0m \u001b[0mobj\u001b[0m\u001b[0;34m,\u001b[0m \u001b[0mend\u001b[0m\u001b[0;34m\u001b[0m\u001b[0;34m\u001b[0m\u001b[0m\n",
      "\u001b[0;31mJSONDecodeError\u001b[0m: Expecting value: line 1 column 1 (char 0)"
     ]
    }
   ],
   "source": [
    "print(sp.instrument_id())"
   ]
  },
  {
   "cell_type": "code",
   "execution_count": 42,
   "id": "40dee142-01e7-47f7-b815-93047cc9b0b5",
   "metadata": {},
   "outputs": [],
   "source": [
    "data = {\n",
    "\"obj_id\": str(tid[0]),\n",
    "\"wavelengths\": wavelengths,\n",
    "\"fluxes\": flux,\n",
    "\"observed_at\": str(date),\n",
    "\"instrument_id\": 7\n",
    "}\n"
   ]
  },
  {
   "cell_type": "code",
   "execution_count": null,
   "id": "55d20542-5358-4b23-9848-4888504b3c6c",
   "metadata": {},
   "outputs": [],
   "source": [
    "print(data)"
   ]
  },
  {
   "cell_type": "code",
   "execution_count": 43,
   "id": "6e4a7935-0713-4097-b3bd-ecb4e080b49e",
   "metadata": {},
   "outputs": [],
   "source": [
    "response = api('POST', '{}/api/spectrum'.format(sp.url), data=data)"
   ]
  },
  {
   "cell_type": "code",
   "execution_count": 44,
   "id": "a5df9cad-9ec6-4761-b69d-3c92e482f099",
   "metadata": {},
   "outputs": [
    {
     "name": "stdout",
     "output_type": "stream",
     "text": [
      "b'{\"status\": \"error\", \"message\": \"HTTP 405: Method Not Allowed\", \"data\": {}}'\n"
     ]
    }
   ],
   "source": [
    "print(response.content)"
   ]
  },
  {
   "cell_type": "code",
   "execution_count": 53,
   "id": "29115a59-0a65-4f7d-8873-882e50ac2381",
   "metadata": {},
   "outputs": [
    {
     "data": {
      "text/plain": [
       "'2014-12-10 12:00:00'"
      ]
     },
     "execution_count": 53,
     "metadata": {},
     "output_type": "execute_result"
    }
   ],
   "source": [
    "import datetime\n",
    "from astropy.time import Time\n",
    "d = datetime.datetime(2014, 12, 10, 12, 0, 0)\n",
    "str(d).replace('+00:00', 'Z')"
   ]
  },
  {
   "cell_type": "code",
   "execution_count": 65,
   "id": "9b717759-5256-4f11-a9c4-92f200d856d5",
   "metadata": {},
   "outputs": [],
   "source": [
    "token = \"85c366c9-88aa-47bc-81c8-3a19366d9789\"\n",
    "response = requests.post(\n",
    "    \"http://desi2.lbl.gov:5000/api/spectrum\",\n",
    "    json={\n",
    "        \"obj_id\": str(tid[0]),\n",
    "\"wavelengths\": wavelengths,\n",
    "\"fluxes\": flux,\n",
    "\"observed_at\": str(d),\n",
    "\"instrument_id\": 7\n",
    "    },\n",
    "    headers={\"Authorization\": f\"token {token}\"}\n",
    ")"
   ]
  },
  {
   "cell_type": "code",
   "execution_count": 66,
   "id": "253a2688-8495-405a-bd71-eff117852e24",
   "metadata": {},
   "outputs": [
    {
     "name": "stdout",
     "output_type": "stream",
     "text": [
      "b'{\"status\": \"error\", \"message\": \"(psycopg2.errors.ForeignKeyViolation) insert or update on table \\\\\"spectra\\\\\" violates foreign key constraint \\\\\"spectra_obj_id_fkey\\\\\"\\\\nDETAIL:  Key (obj_id)=(39632967152177739) is not present in table \\\\\"objs\\\\\".\\\\n\\\\n[SQL: INSERT INTO spectra (created_at, modified, wavelengths, fluxes, errors, obj_id, observed_at, origin, instrument_id, followup_request_id, assignment_id, original_file_string, original_file_filename, owner_id) VALUES (timezone(%(timezone_1)s, CURRENT_TIMESTAMP), timezone(%(timezone_1)s, CURRENT_TIMESTAMP), %(wavelengths)s, %(fluxes)s, %(errors)s, %(obj_id)s, %(observed_at)s, %(origin)s, %(instrument_id)s, %(followup_request_id)s, %(assignment_id)s, %(original_file_string)s, %(original_file_filename)s, %(owner_id)s) RETURNING spectra.id]\\\\n[parameters: {\\'timezone_1\\': \\'UTC\\', \\'wavelengths\\': [3600.0, 3600.8, 3601.6000000000004, 3602.4000000000005, 3603.2000000000007, 3604.000000000001, 3604.800000000001, 3605.6000000000013, 3606.4000000000 ... (133638 characters truncated) ... 9093.600000000359, 9094.400000000358, 9095.200000000357, 9096.000000000358, 9096.80000000036, 9097.600000000359, 9098.400000000358, 9099.200000000359], \\'fluxes\\': [1.0594978332519531, 1.0190545320510864, -11.739490270614624, -3.6231460571289062, -10.28920030593872, 6.644783973693848, -0.404541015625, 6.581346750 ... (145338 characters truncated) ... 2, 0.14567971229553223, -0.19115769863128662, -0.7480792999267578, -0.2586778402328491, 0.4523860216140747, -0.16792774200439453, -0.6791512966156006], \\'errors\\': None, \\'obj_id\\': \\'39632967152177739\\', \\'observed_at\\': datetime.datetime(2014, 12, 10, 12, 0), \\'origin\\': None, \\'instrument_id\\': 7, \\'followup_request_id\\': None, \\'assignment_id\\': None, \\'original_file_string\\': None, \\'original_file_filename\\': None, \\'owner_id\\': 396}]\\\\n(Background on this error at: http://sqlalche.me/e/gkpj)\", \"data\": {}, \"version\": \"0.9.dev0+git%aI.e510c6c\"}'\n"
     ]
    }
   ],
   "source": [
    "print(response.content)"
   ]
  },
  {
   "cell_type": "code",
   "execution_count": null,
   "id": "09a32381-cab7-4932-b868-4c2fe2ad63bd",
   "metadata": {},
   "outputs": [],
   "source": []
  }
 ],
 "metadata": {
  "kernelspec": {
   "display_name": "DESI master",
   "language": "python",
   "name": "desi-master"
  },
  "language_info": {
   "codemirror_mode": {
    "name": "ipython",
    "version": 3
   },
   "file_extension": ".py",
   "mimetype": "text/x-python",
   "name": "python",
   "nbconvert_exporter": "python",
   "pygments_lexer": "ipython3",
   "version": "3.8.3"
  }
 },
 "nbformat": 4,
 "nbformat_minor": 5
}
