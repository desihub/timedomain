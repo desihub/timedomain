{
 "cells": [
  {
   "cell_type": "code",
   "execution_count": 38,
   "id": "56e3cdb0-c733-4a8a-b6ff-5b4ee98389f7",
   "metadata": {},
   "outputs": [
    {
     "ename": "TypeError",
     "evalue": "unhashable type: 'list'",
     "output_type": "error",
     "traceback": [
      "\u001b[0;31m---------------------------------------------------------------------------\u001b[0m",
      "\u001b[0;31mTypeError\u001b[0m                                 Traceback (most recent call last)",
      "\u001b[0;32m<ipython-input-38-0c645c197b80>\u001b[0m in \u001b[0;36m<module>\u001b[0;34m\u001b[0m\n\u001b[1;32m     35\u001b[0m     \u001b[0mdate_cursor\u001b[0m \u001b[0;34m=\u001b[0m \u001b[0md\u001b[0m\u001b[0;34m.\u001b[0m\u001b[0mexecute\u001b[0m\u001b[0;34m(\u001b[0m\u001b[0mdate_query\u001b[0m\u001b[0;34m)\u001b[0m\u001b[0;34m\u001b[0m\u001b[0;34m\u001b[0m\u001b[0m\n\u001b[1;32m     36\u001b[0m     \u001b[0mtemp_date\u001b[0m \u001b[0;34m=\u001b[0m \u001b[0mdate_cursor\u001b[0m\u001b[0;34m.\u001b[0m\u001b[0mfetchall\u001b[0m\u001b[0;34m(\u001b[0m\u001b[0;34m)\u001b[0m\u001b[0;34m\u001b[0m\u001b[0;34m\u001b[0m\u001b[0m\n\u001b[0;32m---> 37\u001b[0;31m     \u001b[0mdate_set\u001b[0m\u001b[0;34m.\u001b[0m\u001b[0madd\u001b[0m\u001b[0;34m(\u001b[0m\u001b[0mtemp_date\u001b[0m\u001b[0;34m)\u001b[0m\u001b[0;34m\u001b[0m\u001b[0;34m\u001b[0m\u001b[0m\n\u001b[0m\u001b[1;32m     38\u001b[0m \u001b[0;34m\u001b[0m\u001b[0m\n\u001b[1;32m     39\u001b[0m \u001b[0mprint\u001b[0m\u001b[0;34m(\u001b[0m\u001b[0mdate_set\u001b[0m\u001b[0;34m)\u001b[0m\u001b[0;34m\u001b[0m\u001b[0;34m\u001b[0m\u001b[0m\n",
      "\u001b[0;31mTypeError\u001b[0m: unhashable type: 'list'"
     ]
    }
   ],
   "source": [
    "#####trying python\n",
    "import sqlite3\n",
    "import numpy as np\n",
    "\n",
    "conn_search = sqlite3.connect('/global/cfs/cdirs/desi/science/td/daily-search/transients_search.db')\n",
    "c = conn_search.cursor()    \n",
    "exposure_query=\"select distinct tileid from exposures where (tileid,obsdate) not in (select tileid,obsdate from desidiff_H_coadd_exposures) AND obsdate>20210529;\"\n",
    "cursor = c.execute(exposure_query)\n",
    "tileids_list = cursor.fetchall()\n",
    "tileids_list = np.array(tileids_list).flatten()\n",
    "conn_search.close()\n",
    "    #get list of tileids for association with desi.db\n",
    "conn_desi = sqlite3.connect('/global/cfs/cdirs/desi/science/td/db/desi.db')\n",
    "d = conn_desi.cursor()\n",
    "# desi_query=\"select distinct TARGETID, YYYYMMDD from fibermap_daily where TILEID==1910 or TILEID==20079;\"\n",
    " #   targetids_arr=[]\n",
    "\"\"\"\n",
    "    for id in tileids_list\n",
    "        cursor = d.execute(desi_query)\n",
    "        targetids_arr = cursor.fetchall()\n",
    "        print(*targetids_arr)\n",
    "    targetids_arr.append(cursor.fetchall())\n",
    "        #is this valid .append(.fetchall())?\n",
    "\"\"\"\n",
    "targetid_arr=[]\n",
    "date_set={}\n",
    "date_set = set()\n",
    "temp_list = [1910, 20079]\n",
    "for id in temp_list:\n",
    "    target_query=\"select distinct TARGETID from fibermap_daily where TILEID==\"+str(id);\n",
    "    target_cursor = d.execute(target_query)\n",
    "    temp_target = target_cursor.fetchall()\n",
    "    targetid_arr= (targetid_arr + temp_target)\n",
    "    date_query=\"select distinct YYYYMMDD from fibermap_daily where TILEID==\"+str(id);\n",
    "    date_cursor = d.execute(date_query)\n",
    "    temp_date = date_cursor.fetchall()\n",
    "    date_set.add(temp_date)\n",
    "\n",
    "print(date_set)\n",
    "conn_desi.close()\n",
    "#cursor.close()??\n",
    "#this should provide a np.array for processing in ToO-Coadd\n",
    "    \n"
   ]
  },
  {
   "cell_type": "code",
   "execution_count": null,
   "id": "9ccbc7ac-864a-4edf-86e7-b58ea48b7da7",
   "metadata": {},
   "outputs": [],
   "source": []
  }
 ],
 "metadata": {
  "kernelspec": {
   "display_name": "Python 3",
   "language": "python",
   "name": "python3"
  },
  "language_info": {
   "codemirror_mode": {
    "name": "ipython",
    "version": 3
   },
   "file_extension": ".py",
   "mimetype": "text/x-python",
   "name": "python",
   "nbconvert_exporter": "python",
   "pygments_lexer": "ipython3",
   "version": "3.7.4"
  }
 },
 "nbformat": 4,
 "nbformat_minor": 5
}
